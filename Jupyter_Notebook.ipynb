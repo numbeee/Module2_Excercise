{
 "cells": [
  {
   "cell_type": "markdown",
   "metadata": {},
   "source": [
    "<center>\n",
    "    <img src=\"https://cf-courses-data.s3.us.cloud-object-storage.appdomain.cloud/IBMDeveloperSkillsNetwork-DS0105EN-SkillsNetwork/labs/Module2/images/SN_web_lightmode.png\" width=\"300\" alt=\"cognitiveclass.ai logo\">\n",
    "</center>\n"
   ]
  },
  {
   "cell_type": "markdown",
   "metadata": {},
   "source": [
    "#### Add your code below following the instructions given in the course\n"
   ]
  },
  {
   "cell_type": "markdown",
   "metadata": {
    "tags": []
   },
   "source": [
    "# Data Science Tools and ecosystem"
   ]
  },
  {
   "cell_type": "markdown",
   "metadata": {},
   "source": [
    "In this Notebook I will show some skills I learned during the Coursera course on Data Science and summarize the main Tools and Ecosystem in the world of Data Science."
   ]
  },
  {
   "cell_type": "markdown",
   "metadata": {},
   "source": [
    "__Objectives__\n",
    "\n",
    "- List of popular languages in Data Science\n",
    "- Popular packages used in Python\n",
    "- Mathematical expressions"
   ]
  },
  {
   "cell_type": "markdown",
   "metadata": {},
   "source": [
    "In the world of Data Science it is of the utmost importance to have a good understanding of Data and how to manage it, work with it and extract some insights from it. In order to do so a Data Scientist has to be knowledgeable of different languages, such as\n",
    "\n",
    "1. Python\n",
    "2. R\n",
    "3. SQL\n",
    "4. Java\n",
    "5. C++\n",
    "\n",
    "if the Data scientist is brave enough to learn some more  we can simply add to the list:\n",
    "\n",
    "- Julia\n",
    "- JavaScript\n",
    "- Scala\n",
    "- MATLAB"
   ]
  },
  {
   "cell_type": "markdown",
   "metadata": {},
   "source": [
    "In order to elaborate and analyze the Data a data scientist hast to be familiar with some important libraries Especially in python), like some examples:\n",
    "\n",
    "1. numpy: basic and high level mathematics\n",
    "2. Pandas: effective and quick manipulation of Data and visualization\n",
    "3. Matplotlib: a derivative of MATLAB language, of great help in creating Data visualization and Plots\n",
    "4. Seaborn: again, great for visualizations\n",
    "5. Scikit-Learn: extensively used for machine learning\n",
    "6. TensorFlow: used mostly in the framework of Deep Learning (as PyTorch)"
   ]
  },
  {
   "cell_type": "markdown",
   "metadata": {},
   "source": [
    "|Data Science Tools|\n",
    "|------------------|\n",
    "|Jupyter Notebooks|\n",
    "|RStudio|\n",
    "|Visual Studio|"
   ]
  },
  {
   "cell_type": "markdown",
   "metadata": {},
   "source": [
    "### Here some examples of arithmetic expressions in Python\n",
    "- Addition (+): with this we will add two or more numbers. Like $3+2$ (or $x+y$ if we are using some variables)\n",
    "- Subtraction (-): to subtract a number from another. Like $3-2$ (or $x-y$)\n",
    "- Multiplication (x): we can use it to multiply different numbers. Like $3*2$ (or $x*y$)\n",
    "- Division (/): used to divide a number in subpart of itself. Like $3/2$ (or $3/2$)"
   ]
  },
  {
   "cell_type": "code",
   "execution_count": 6,
   "metadata": {
    "tags": []
   },
   "outputs": [
    {
     "data": {
      "text/plain": [
       "17"
      ]
     },
     "execution_count": 6,
     "metadata": {},
     "output_type": "execute_result"
    }
   ],
   "source": [
    "#simple expression that shows multiplication and addition of numbers\n",
    "\n",
    "(3*4)+5"
   ]
  },
  {
   "cell_type": "code",
   "execution_count": 4,
   "metadata": {
    "tags": []
   },
   "outputs": [
    {
     "name": "stdout",
     "output_type": "stream",
     "text": [
      "2.5\n"
     ]
    }
   ],
   "source": [
    "#we want to convert minutes into Hours\n",
    "#basic ist that in an hour are 60 minutes so we will divide the total amount of minutes in groups of 60 and we will see how many hours that is\n",
    "\n",
    "Minutes = 200\n",
    "Hours = 200/60\n",
    "\n",
    "print(Hours)"
   ]
  },
  {
   "cell_type": "markdown",
   "metadata": {},
   "source": [
    "## Author\n",
    "Emiliano Rampi"
   ]
  },
  {
   "cell_type": "code",
   "execution_count": null,
   "metadata": {},
   "outputs": [],
   "source": []
  }
 ],
 "metadata": {
  "kernelspec": {
   "display_name": "Python",
   "language": "python",
   "name": "conda-env-python-py"
  },
  "language_info": {
   "codemirror_mode": {
    "name": "ipython",
    "version": 3
   },
   "file_extension": ".py",
   "mimetype": "text/x-python",
   "name": "python",
   "nbconvert_exporter": "python",
   "pygments_lexer": "ipython3",
   "version": "3.7.12"
  }
 },
 "nbformat": 4,
 "nbformat_minor": 4
}
